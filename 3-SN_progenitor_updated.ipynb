{
 "cells": [
  {
   "cell_type": "code",
   "execution_count": 6,
   "metadata": {
    "ExecuteTime": {
     "end_time": "2024-11-03T15:10:06.138719Z",
     "start_time": "2024-11-03T15:10:06.129045Z"
    }
   },
   "outputs": [],
   "source": [
    "import healpy as hp\n",
    "import astropy.units as u\n",
    "from astropy.coordinates import SkyCoord,SphericalDifferential,ICRS,Galactic,GalacticLSR,Distance,Galactocentric\n",
    "import pandas as pd\n",
    "import matplotlib.cm as cm\n",
    "from astropy.table import Table, join,vstack\n",
    "import numpy as np\n",
    "import math\n",
    "import matplotlib.pyplot as plt\n",
    "import matplotlib.patches as patches\n",
    "from astropy.io import fits\n",
    "from scipy import ndimage, interpolate\n",
    "from scipy.ndimage import gaussian_filter1d\n",
    "from scipy.stats import norm\n",
    "import scipy.constants\n",
    "from galpy.orbit import Orbit\n",
    "from galpy.potential import MWPotential2014\n",
    "from matplotlib import rcParams\n",
    "rcParams['font.family'] = 'serif'\n",
    "rcParams['font.serif'] = ['Times New Roman']\n",
    "rcParams[\"mathtext.fontset\"] = 'stix'\n",
    "%config InlineBackend.figure_format='retina' # very useful command for high-res images"
   ]
  },
  {
   "cell_type": "code",
   "execution_count": 7,
   "metadata": {},
   "outputs": [],
   "source": [
    "import sys\n",
    "sys.path.insert(1, '/Users/anniegao/Documents/Research/Gum Nebula Project/')\n",
    "import get_property as gp"
   ]
  },
  {
   "cell_type": "code",
   "execution_count": 3,
   "metadata": {},
   "outputs": [],
   "source": [
    "# cluster_all = fits.open('/Users/anniegao/Dropbox/Gum_Nebula/data/Zeta_Pup_vicinity/asu-2.fit')[1].data\n",
    "cluster_all = pd.read_csv('/Users/anniegao/Dropbox/Gum_Nebula/data/cluster_sample_data_Swiggum2024.csv')\n",
    "ivs = pd.read_csv('/Users/anniegao/Dropbox/Gum_Nebula/data/npix128boundary_mean_sigma10.csv')\n",
    "ivs_out = pd.read_csv('/Users/anniegao/Dropbox/Gum_Nebula/data/npix128boundaryout_mean_sigma10.csv')\n",
    "peakxyz= pd.read_csv('/Users/anniegao/Documents/dustmaps_files/Dust_maps/Edenhofer_map_sketch/uncertainty_sample/peaks_meanmap_xyz.csv')\n",
    "\n",
    "gum_cenx0 = -67 \n",
    "gum_ceny0 = -334\n",
    "gum_cenz0 = -65\n",
    "\n",
    "gum_cenx = -67 # averaged by result\n",
    "gum_ceny = -337\n",
    "gum_cenz = -61"
   ]
  },
  {
   "cell_type": "code",
   "execution_count": 4,
   "metadata": {},
   "outputs": [],
   "source": [
    "U_sun, V_sun, W_sun = 11.1, 12.24, 7.25\n",
    "o_obs_future = Orbit([0,0,0,U_sun*-1, V_sun*-1, W_sun*-1], lb=True,uvw=True)\n",
    "ts_future = np.arange(0,3.005,0.01)*u.Myr\n",
    "ts_past = np.arange(-3,0.005,0.01)*u.Myr\n",
    "o_obs_future.integrate(ts_future, MWPotential2014)\n",
    "o_obs_past = o_obs_future.flip(inplace=False)\n",
    "o_obs_past.integrate(ts_past,MWPotential2014)"
   ]
  },
  {
   "cell_type": "code",
   "execution_count": 5,
   "metadata": {},
   "outputs": [],
   "source": [
    "#get past xyz coordinates for the observer at the LSR position\n",
    "#galpy needs values in kpc so we convert to pc by multiplying by 1000\n",
    "obs_x_past = (o_obs_past.helioX(ts_past) * 1000.)[::-1]\n",
    "obs_y_past = (o_obs_past.helioY(ts_past) * 1000.)[::-1]\n",
    "obs_z_past = (o_obs_past.helioZ(ts_past) * 1000.)[::-1]"
   ]
  },
  {
   "cell_type": "code",
   "execution_count": 6,
   "metadata": {},
   "outputs": [],
   "source": [
    "def trace(coord): #temporarily use,need to pre-define the ts_past, ts_future\n",
    "    o_obj_future = Orbit(coord)\n",
    "    o_obj_future.integrate(ts_future, MWPotential2014)\n",
    "    o_obj_past = o_obj_future.flip(inplace=False)\n",
    "    o_obj_past.integrate(ts_past, MWPotential2014)\n",
    "    x_past_obj = np.flip((o_obj_past.helioX(ts_past) * 1000.), axis=-1)\n",
    "    y_past_obj = np.flip((o_obj_past.helioY(ts_past) * 1000.), axis=-1)\n",
    "    z_past_obj = np.flip((o_obj_past.helioZ(ts_past) * 1000.), axis=-1)\n",
    "    x_orbit_obj = x_past_obj - obs_x_past\n",
    "    y_orbit_obj = y_past_obj - obs_y_past\n",
    "    z_orbit_obj = z_past_obj - obs_z_past\n",
    "    return x_orbit_obj, y_orbit_obj, z_orbit_obj"
   ]
  },
  {
   "cell_type": "code",
   "execution_count": null,
   "metadata": {},
   "outputs": [],
   "source": [
    "cluster_near = cluster_all[(cluster_all['x_helio']<gum_cenx+200)&(cluster_all['x_helio']>gum_cenx-200)&(cluster_all['y_helio']<gum_ceny+200)&(cluster_all['y_helio']>gum_ceny-200)&(cluster_all['z_helio']<gum_cenz+200)&(cluster_all['z_helio']>gum_cenz-200)]"
   ]
  },
  {
   "cell_type": "code",
   "execution_count": 9,
   "metadata": {},
   "outputs": [],
   "source": [
    "cl_all_ra = cluster_near['ra'].values#cluster_near['RA_ICRS']\n",
    "cl_all_dec = cluster_near['dec'].values#cluster_near['DE_ICRS']\n",
    "cl_all_plx = cluster_near['parallax'].values #cluster_near['Plx']\n",
    "cl_all_pmra = cluster_near['pmra'].values #cluster_near['pmRA']\n",
    "cl_all_pmdec = cluster_near['pmdec'].values #cluster_near['pmDE']\n",
    "cl_all_rv = cluster_near['rv_combined'].values #cluster_near['RV']"
   ]
  },
  {
   "cell_type": "code",
   "execution_count": null,
   "metadata": {},
   "outputs": [
    {
     "name": "stderr",
     "output_type": "stream",
     "text": [
      "                                      \r"
     ]
    }
   ],
   "source": [
    "cluster_coord = SkyCoord(u=cluster_near['x_helio'].values*u.pc, v=cluster_near['y_helio'].values*u.pc, w=cluster_near['z_helio'].values*u.pc,\n",
    "                         U=cluster_near['U'].values*u.km/u.s, V=cluster_near['V'].values*u.km/u.s, W=cluster_near['W'].values*u.km/u.s, \n",
    "                         frame='galactic', representation_type='cartesian')\n",
    "x_orbit_cluster_past, y_orbit_cluster_past,z_orbit_cluster_past = trace(cluster_coord)"
   ]
  },
  {
   "cell_type": "markdown",
   "metadata": {},
   "source": [
    "## Selecting clusters"
   ]
  },
  {
   "cell_type": "code",
   "execution_count": 13,
   "metadata": {},
   "outputs": [],
   "source": [
    "# distance between the clusters and the center of the Gum\n",
    "dist_cl_gum = np.sqrt((np.ones_like(x_orbit_cluster_past)*gum_cenx-x_orbit_cluster_past)**2+\n",
    "                     (np.ones_like(y_orbit_cluster_past)*gum_ceny-y_orbit_cluster_past)**2+\n",
    "                     (np.ones_like(z_orbit_cluster_past)*gum_cenz-z_orbit_cluster_past)**2)"
   ]
  },
  {
   "cell_type": "markdown",
   "metadata": {},
   "source": [
    "### Limits: distance, age, memberships"
   ]
  },
  {
   "cell_type": "code",
   "execution_count": null,
   "metadata": {},
   "outputs": [
    {
     "data": {
      "text/plain": [
       "14         Alessi_36\n",
       "15             BH_23\n",
       "34         CWNU_1044\n",
       "56     Collinder_135\n",
       "57     Collinder_140\n",
       "139         NGC_2547\n",
       "146        NGC_2451B\n",
       "156          OC_0450\n",
       "157          OC_0470\n",
       "172          OCSN_82\n",
       "181          Pozzo_1\n",
       "Name: name, dtype: object"
      ]
     },
     "execution_count": 14,
     "metadata": {},
     "output_type": "execute_result"
    }
   ],
   "source": [
    "# with Gum_center: min dist among past 3Myr\n",
    "min_Gumdist_samples = np.min(dist_cl_gum, axis=1)\n",
    "# the min dist among the n_cl_sample\n",
    "age_lim = 40 #38 #Myr\n",
    "dist_lim = 80 \n",
    "# time_lim = -0.01*3 #Myr, not homogeneously decreasing\n",
    "N_member_lim = 150\n",
    "mask_Gum = (min_Gumdist_samples<dist_lim) & (10**cluster_near['log_age_50']/1e6<age_lim) &(cluster_near['n_stars']>N_member_lim) #&(min_Gumdist_time.value<time_lim)\n",
    "cl1 = cluster_near[mask_Gum]\n",
    "\n",
    "cl1['name']"
   ]
  },
  {
   "cell_type": "code",
   "execution_count": 15,
   "metadata": {},
   "outputs": [],
   "source": [
    "x_cl_select, y_cl_select, z_cl_select = x_orbit_cluster_past[mask_Gum], y_orbit_cluster_past[mask_Gum], z_orbit_cluster_past[mask_Gum]"
   ]
  },
  {
   "cell_type": "code",
   "execution_count": null,
   "metadata": {},
   "outputs": [],
   "source": [
    "for cluster in range(len(cl1)):\n",
    "    name = cl1['name'].values[cluster]\n",
    "    cluster_table = Table()\n",
    "    cluster_table['time'] = ts_past\n",
    "    cluster_table['x_past[pc]'] = x_cl_select[cluster]\n",
    "    cluster_table['y_past[pc]'] = y_cl_select[cluster]\n",
    "    cluster_table['z_past[pc]'] = z_cl_select[cluster]\n",
    "    # cluster_table.write(f'/Users/anniegao/Documents/dustmaps_files/Traces/Gum_vicinity_clusters/Updated_paths_Swiggum/{name}.csv', format='csv')"
   ]
  },
  {
   "cell_type": "markdown",
   "metadata": {},
   "source": [
    "## Check the selected members in Gamma Vel family"
   ]
  },
  {
   "cell_type": "code",
   "execution_count": null,
   "metadata": {},
   "outputs": [],
   "source": [
    "cl_gamma_vel_name = ['Pozzo_1','OC_0470', 'CWNU_1083', 'CWNU_1096',  'OC_0479']\n",
    "for cluster in range(2, len(cl_gamma_vel_name)): #only the ones not already exported\n",
    "    name = cl_gamma_vel_name[cluster]\n",
    "    cl_info = cluster_near[cluster_near['name'].values==name]\n",
    "    cluster_table = Table()\n",
    "    cluster_table['time'] = ts_past\n",
    "    cluster_table['x_past[pc]'] = x_orbit_cluster_past[cluster_near['name'].values==name][0,:]\n",
    "    cluster_table['y_past[pc]'] = y_orbit_cluster_past[cluster_near['name'].values==name][0,:]\n",
    "    cluster_table['z_past[pc]'] = z_orbit_cluster_past[cluster_near['name'].values==name][0,:]\n",
    "    # cluster_table.write(f'/Users/anniegao/Documents/dustmaps_files/Traces/Gum_vicinity_clusters/Updated_paths_Swiggum/{name}.csv', format='csv')"
   ]
  },
  {
   "cell_type": "markdown",
   "metadata": {},
   "source": [
    "## Table of all the relevant clusters"
   ]
  },
  {
   "cell_type": "code",
   "execution_count": 24,
   "metadata": {},
   "outputs": [],
   "source": [
    "cluster_table = Table(names=('age[Myr]', 'x_helio[pc]','y_helio[pc]', 'z_helio[pc]', \n",
    "                                  'U_helio[km/s]', 'V_helio[km/s]', 'W_helio[km/s]'))\n",
    "\n",
    "total_cl = ['Pozzo_1', 'CWNU_1083', 'CWNU_1096', 'OC_0470', 'OC_0479', 'Trumpler_10', 'OC_0450', 'NGC_2451B', 'Collinder_135','Collinder_140','OCSN_82', 'Alessi_36']\n",
    "for cluster in range(len(total_cl)):\n",
    "    name = total_cl[cluster]\n",
    "    cl_info = cluster_near[cluster_near['name'].values==name]\n",
    "    cluster_table.add_row([10**cl_info['log_age_50']/1e6, cl_info['x_helio'].values,  cl_info['y_helio'].values, cl_info['z_helio'].values,\n",
    "                            cl_info['U'].values, cl_info['V'].values, cl_info['W'].values])\n",
    "cluster_table.add_column(['Pozzo_1', 'CWNU_1083', 'CWNU_1096', 'OC_0470', 'OC_0479', 'Trumpler_10', 'OC_0450', 'NGC_2451B', 'Collinder_135','Collinder_140','OCSN_82', 'Alessi_36'], name='Name')"
   ]
  },
  {
   "cell_type": "code",
   "execution_count": 29,
   "metadata": {},
   "outputs": [],
   "source": [
    "cluster_table.add_row([3.2, zp_cartesian.u.value, zp_cartesian.v.value,zp_cartesian.w.value,\n",
    "                           zp_cartesian.U.value, zp_cartesian.V.value, zp_cartesian.W.value, 'zeta pup'])"
   ]
  },
  {
   "cell_type": "code",
   "execution_count": null,
   "metadata": {},
   "outputs": [],
   "source": [
    "# cluster_table.write('/Users/anniegao/Dropbox/Gum_Nebula/data/all_cluster_info.csv', format='csv')"
   ]
  },
  {
   "cell_type": "markdown",
   "metadata": {},
   "source": [
    "## Neutron Star"
   ]
  },
  {
   "cell_type": "code",
   "execution_count": 21,
   "metadata": {},
   "outputs": [],
   "source": [
    "ns_path=pd.read_csv('/Users/anniegao/Dropbox/Gum_Nebula/data/NS_-105rv.csv')"
   ]
  },
  {
   "cell_type": "code",
   "execution_count": 22,
   "metadata": {},
   "outputs": [],
   "source": [
    "ns_coord = SkyCoord(ra='07h20m24.9620s', dec='-31d25m50.083s', distance=Distance(parallax= 3.6*u.mas),\n",
    "                    pm_ra_cosdec= -92.8*u.mas/u.yr, pm_dec= 55.3*u.mas/u.yr, radial_velocity=0*u.km/u.s,\n",
    "                    frame='icrs')"
   ]
  },
  {
   "cell_type": "code",
   "execution_count": 25,
   "metadata": {},
   "outputs": [],
   "source": [
    "ns_cartesian = ns_coord.transform_to(Galactic)\n",
    "ns_cartesian.representation_type= 'cartesian'\n",
    "cluster_table.add_row([0, ns_cartesian.u.value, ns_cartesian.v.value,ns_cartesian.w.value,\n",
    "                           ns_cartesian.U.value, ns_cartesian.V.value, ns_cartesian.W.value, 'NS'])"
   ]
  },
  {
   "cell_type": "code",
   "execution_count": 240,
   "metadata": {},
   "outputs": [],
   "source": [
    "gamma2cartesian = Gamma2Vel.transform_to(Galactic)\n",
    "gamma2cartesian.representation_type= 'cartesian'\n",
    "cluster_table.add_row([5,  gamma2cartesian.u.value, gamma2cartesian.v.value,gamma2cartesian.w.value,\n",
    "                           gamma2cartesian.U.value, gamma2cartesian.V.value, gamma2cartesian.W.value, 'Gamma2 Vel'])"
   ]
  },
  {
   "cell_type": "markdown",
   "metadata": {},
   "source": [
    "## Trumpler 10"
   ]
  },
  {
   "cell_type": "code",
   "execution_count": 144,
   "metadata": {},
   "outputs": [],
   "source": [
    "tr10_info = cluster_near[cluster_near['Name']=='Trumpler_10']\n",
    "Trumpler_10_clinfo = SkyCoord(ra=tr10_info['RA_ICRS']*u.deg, dec=tr10_info['DE_ICRS']*u.deg, distance=Distance(parallax=tr10_info['Plx']*u.mas),\n",
    "                         pm_ra_cosdec=tr10_info['pmRA']*u.mas/u.yr, pm_dec=tr10_info['pmDE']*u.mas/u.yr,\n",
    "                         radial_velocity=tr10_info['RV']*u.km/u.s, frame='icrs')\n"
   ]
  },
  {
   "cell_type": "code",
   "execution_count": 145,
   "metadata": {},
   "outputs": [],
   "source": [
    "x_orbit_tr10_past, y_orbit_tr10_past, z_orbit_tr10_past = trace(Trumpler_10_clinfo)"
   ]
  },
  {
   "cell_type": "code",
   "execution_count": 159,
   "metadata": {},
   "outputs": [],
   "source": [
    "tr10_table = Table()\n",
    "tr10_table['time'] = ts_past\n",
    "tr10_table['x_past[pc]'] = x_orbit_tr10_past[0,:]\n",
    "tr10_table['y_past[pc]'] = y_orbit_tr10_past[0,:]\n",
    "tr10_table['z_past[pc]'] = z_orbit_tr10_past[0,:]\n",
    "# tr10_table.write('/Users/anniegao/Dropbox/Gum_Nebula/data/Zeta_Pup_vicinity/Trumpler_10_coords.csv', format='csv')"
   ]
  },
  {
   "cell_type": "code",
   "execution_count": 21,
   "metadata": {},
   "outputs": [
    {
     "data": {
      "text/plain": [
       "<SkyCoord (Galactic): (u, v, w) in pc\n",
       "    [(-54.31256927, -432.23788725, 4.5575167)]\n",
       " (U, V, W) in km / s\n",
       "    [(-28.92293096, -16.63697314, -11.15005502)]>"
      ]
     },
     "execution_count": 21,
     "metadata": {},
     "output_type": "execute_result"
    }
   ],
   "source": [
    "tr10_cartesian = Trumpler_10_clinfo.transform_to(Galactic)\n",
    "tr10_cartesian.representation_type = 'cartesian'\n",
    "tr10_cartesian"
   ]
  },
  {
   "cell_type": "markdown",
   "metadata": {},
   "source": [
    "## $\\zeta$ Puppis"
   ]
  },
  {
   "cell_type": "code",
   "execution_count": 26,
   "metadata": {},
   "outputs": [],
   "source": [
    "from astroquery.vizier import Vizier\n",
    "v = Vizier(columns=[\"**\"], catalog=\"I/311/hip2\")\n",
    "zeta=v.query_object(\"zeta puppis\")"
   ]
  },
  {
   "cell_type": "code",
   "execution_count": 27,
   "metadata": {},
   "outputs": [],
   "source": [
    "zp_ra = zeta[0]['RArad'].value\n",
    "zp_dec = zeta[0]['DErad'].value\n",
    "zp_plx =zeta[0]['Plx'].value\n",
    "zp_pmra = zeta[0]['pmRA'].value\n",
    "zp_pmdec = zeta[0]['pmDE'].value\n",
    "zp_rv = -25.4\n",
    "zp_coord = SkyCoord(ra=zp_ra*u.deg, dec=zp_dec*u.deg, distance=Distance(parallax=zp_plx*u.mas),\n",
    "                    pm_ra_cosdec=zp_pmra*u.mas/u.yr, pm_dec=zp_pmdec*u.mas/u.yr,\n",
    "                    radial_velocity=zp_rv*u.km/u.s, frame='icrs')"
   ]
  },
  {
   "cell_type": "code",
   "execution_count": 28,
   "metadata": {},
   "outputs": [
    {
     "data": {
      "text/plain": [
       "<SkyCoord (Galactic): (u, v, w) in pc\n",
       "    [(-80.23662039, -321.23715205, -27.25471738)]\n",
       " (U, V, W) in km / s\n",
       "    [(-38.97099582, 38.01221691, -23.68388793)]>"
      ]
     },
     "execution_count": 28,
     "metadata": {},
     "output_type": "execute_result"
    }
   ],
   "source": [
    "zp_cartesian = zp_coord.transform_to(Galactic)\n",
    "zp_cartesian.representation_type='cartesian'\n",
    "zp_cartesian"
   ]
  },
  {
   "cell_type": "code",
   "execution_count": 155,
   "metadata": {},
   "outputs": [],
   "source": [
    "x_orbit_zp_past, y_orbit_zp_past,z_orbit_zp_past = trace(zp_coord)\n"
   ]
  },
  {
   "cell_type": "code",
   "execution_count": 160,
   "metadata": {},
   "outputs": [],
   "source": [
    "zp_table = Table()\n",
    "zp_table['time'] = ts_past\n",
    "zp_table['x_past[pc]'] = x_orbit_zp_past[0,:]\n",
    "zp_table['y_past[pc]'] = y_orbit_zp_past[0,:]\n",
    "zp_table['z_past[pc]'] = z_orbit_zp_past[0,:]\n",
    "# zp_table.write('/Users/anniegao/Dropbox/Gum_Nebula/data/Zeta_Pup_vicinity/Zeta_Pup_coords.csv', format='csv')"
   ]
  },
  {
   "cell_type": "markdown",
   "metadata": {},
   "source": [
    "## Distance between Trumpler 10 and Zeta Pup"
   ]
  },
  {
   "cell_type": "code",
   "execution_count": 101,
   "metadata": {},
   "outputs": [],
   "source": [
    "n_sample = 10000\n",
    "tr10_ra = tr10_info['RA_ICRS']*np.ones(n_sample)\n",
    "tr10_dec = tr10_info['DE_ICRS']*np.ones(n_sample)\n",
    "tr10_plx = np.random.normal(loc=tr10_info['Plx'], scale=tr10_info['s_Plx'],size=n_sample)\n",
    "tr10_pmra = np.random.normal(loc=tr10_info['pmRA'], scale=tr10_info['s_pmRA'], size=n_sample)\n",
    "tr10_pmdec =np.random.normal(loc=tr10_info['pmDE'], scale=tr10_info['s_pmDE'], size=n_sample)\n",
    "tr10_rv = np.random.normal(loc=tr10_info['RV'], scale=tr10_info['s_RV'], size=n_sample)\n",
    "zp_ra = zeta[0]['RArad'].value*np.ones(n_sample)\n",
    "zp_dec = zeta[0]['DErad'].value*np.ones(n_sample)\n",
    "zp_plx = np.random.normal(loc=zeta[0]['Plx'].value, scale=zeta[0]['e_Plx'].value, size=n_sample)\n",
    "zp_pmra = np.random.normal(loc=zeta[0]['pmRA'].value, scale=zeta[0]['e_pmRA'].value, size=n_sample)\n",
    "zp_pmdec = np.random.normal(loc=zeta[0]['pmDE'].value, scale=zeta[0]['e_pmDE'].value, size=n_sample)\n",
    "zp_rv = np.random.normal(loc=-25.4, scale=2.1, size=n_sample)"
   ]
  },
  {
   "cell_type": "code",
   "execution_count": 103,
   "metadata": {},
   "outputs": [
    {
     "name": "stderr",
     "output_type": "stream",
     "text": [
      "                                                      \r"
     ]
    }
   ],
   "source": [
    "tr10_coord = SkyCoord(ra=tr10_ra*u.deg, dec=tr10_dec*u.deg, distance=Distance(parallax=tr10_plx*u.mas),\n",
    "                      pm_ra_cosdec=tr10_pmra*u.mas/u.yr, pm_dec=tr10_pmdec*u.mas/u.yr,\n",
    "                      radial_velocity=tr10_rv*u.km/u.s, frame='icrs')\n",
    "zp_coord = SkyCoord(ra=zp_ra*u.deg, dec=zp_dec*u.deg, distance=Distance(parallax=zp_plx*u.mas),\n",
    "                    pm_ra_cosdec=zp_pmra*u.mas/u.yr, pm_dec=zp_pmdec*u.mas/u.yr,\n",
    "                    radial_velocity=zp_rv*u.km/u.s, frame='icrs')\n",
    "x_orbit_tr10, y_orbit_tr10, z_orbit_tr10 = trace(tr10_coord)\n",
    "x_orbit_zp, y_orbit_zp, z_orbit_zp = trace(zp_coord)"
   ]
  },
  {
   "cell_type": "code",
   "execution_count": 104,
   "metadata": {},
   "outputs": [],
   "source": [
    "# d_tr10_zp = np.sqrt((x_orbit_tr10_past-x_orbit_zp_past)**2 + (y_orbit_tr10_past- y_orbit_zp_past)**2 +(z_orbit_tr10_past-z_orbit_zp_past)**2)\n",
    "dist_tr10_zp_nsample= np.sqrt((x_orbit_tr10-x_orbit_zp)**2+(y_orbit_tr10-y_orbit_zp)**2+(z_orbit_tr10-z_orbit_zp)**2)"
   ]
  },
  {
   "cell_type": "code",
   "execution_count": 112,
   "metadata": {},
   "outputs": [
    {
     "name": "stdout",
     "output_type": "stream",
     "text": [
      "9.659439107615064 -8.214493120228504 14.993555148649996\n",
      "-2.020000000000021 -0.9799999999999791 0.6999999999999851\n"
     ]
    }
   ],
   "source": [
    "min_dist_sample = np.min(dist_tr10_zp_nsample, axis=1)\n",
    "min_dist_time = ts_past[np.argmin(dist_tr10_zp_nsample, axis=1)].value\n",
    "print(np.percentile(min_dist_sample, 50), np.percentile(min_dist_sample, 2.5)-np.percentile(min_dist_sample, 50), np.percentile(min_dist_sample, 97.5)-np.percentile(min_dist_sample, 50))\n",
    "print(np.percentile(min_dist_time, 50), np.percentile(min_dist_time, 2.5)-np.percentile(min_dist_time, 50), np.percentile(min_dist_time, 97.5)-np.percentile(min_dist_time, 50))"
   ]
  },
  {
   "cell_type": "code",
   "execution_count": 110,
   "metadata": {},
   "outputs": [
    {
     "data": {
      "text/plain": [
       "0.17397705528668916"
      ]
     },
     "execution_count": 110,
     "metadata": {},
     "output_type": "execute_result"
    }
   ],
   "source": [
    "np.min(dist_tr10_zp_nsample)"
   ]
  },
  {
   "cell_type": "markdown",
   "metadata": {},
   "source": [
    "## When $\\zeta$ Puppis pass by XX pc of IVS center at YY Myr ago"
   ]
  },
  {
   "cell_type": "code",
   "execution_count": 117,
   "metadata": {},
   "outputs": [],
   "source": [
    "dist_zp_ivs = np.sqrt((x_orbit_zp[0, :]-gum_cenx)**2+(y_orbit_zp[0, :]-gum_ceny)**2+(z_orbit_zp[0, :]-gum_cenz)**2)\n",
    "dist_zpmean_ivs = np.sqrt((x_orbit_zp_past[0, :]-gum_cenx)**2+(y_orbit_zp_past[0, :]-gum_ceny)**2+(z_orbit_zp_past[0, :]-gum_cenz)**2)"
   ]
  },
  {
   "cell_type": "code",
   "execution_count": 119,
   "metadata": {},
   "outputs": [
    {
     "name": "stdout",
     "output_type": "stream",
     "text": [
      "38.20663462674936 -0.17000000000006033 Myr\n"
     ]
    }
   ],
   "source": [
    "print(np.min(dist_zpmean_ivs), ts_past[np.argmin(dist_zpmean_ivs)])"
   ]
  },
  {
   "cell_type": "markdown",
   "metadata": {},
   "source": [
    "## Gamma2 Vel"
   ]
  },
  {
   "cell_type": "code",
   "execution_count": 239,
   "metadata": {},
   "outputs": [],
   "source": [
    "Gamma2Vel= SkyCoord(ra='08h09m31.95013s',dec='-47d20m11.7108s', distance=(1000/2.92)*u.pc,pm_ra_cosdec=-6.07*u.mas/u.yr,pm_dec=10.43*u.mas/u.yr, radial_velocity=15.00*u.km/u.s,frame='icrs')\n",
    "x_orbit_gamma2Vel, y_orbit_gamma2Vel, z_orbit_gamma2Vel = trace(Gamma2Vel)"
   ]
  },
  {
   "cell_type": "code",
   "execution_count": 171,
   "metadata": {},
   "outputs": [],
   "source": [
    "g2vel_table = Table()\n",
    "g2vel_table['time'] = ts_past\n",
    "g2vel_table['x_past[pc]'] = x_orbit_gamma2Vel\n",
    "g2vel_table['y_past[pc]'] = y_orbit_gamma2Vel\n",
    "g2vel_table['z_past[pc]'] = z_orbit_gamma2Vel\n",
    "# g2vel_table.write('/Users/anniegao/Dropbox/Gum_Nebula/data/gamma2Vel.csv', format='csv')"
   ]
  },
  {
   "cell_type": "markdown",
   "metadata": {},
   "source": [
    "## NS Path"
   ]
  },
  {
   "cell_type": "code",
   "execution_count": 161,
   "metadata": {},
   "outputs": [],
   "source": [
    "ns_coord = SkyCoord(ra='07h20m24.9620s', dec='-31d25m50.083s', distance=Distance(parallax= 3.6*u.mas),\n",
    "                    pm_ra_cosdec= -92.8*u.mas/u.yr, pm_dec= 55.3*u.mas/u.yr, radial_velocity=0*u.km/u.s,\n",
    "                    frame='icrs')\n",
    "ns_coord_table = gp.calculate_properties(ns_coord)\n",
    "ns_coord_table['plx_std'] = 1.6\n",
    "ns_coord_table['pmRA_std'] = 1.2\n",
    "ns_coord_table['pmDE_std'] = 1.3"
   ]
  },
  {
   "cell_type": "code",
   "execution_count": 121,
   "metadata": {},
   "outputs": [
    {
     "name": "stderr",
     "output_type": "stream",
     "text": [
      "                                                      \r"
     ]
    }
   ],
   "source": [
    "n_sample = 10000\n",
    "ns_ra = ns_coord.ra.value*np.ones(n_sample)\n",
    "ns_dec = ns_coord.dec.value*np.ones(n_sample)\n",
    "ns_plx = np.random.normal(loc=3.6, scale=1.6, size=n_sample)\n",
    "ns_pmra = np.random.normal(loc=-92.8, scale=1.2, size=n_sample) #-92.8*np.ones(n_sample)      #\n",
    "ns_pmdec = np.random.normal(loc=55.3, scale=1.3, size=n_sample) #55.3*np.ones(n_sample) \n",
    "ns_rv = np.random.uniform(-500, 500, n_sample) #np.linspace(-500, 500, n_sample)  #\n",
    "ns_coord = SkyCoord(ra=ns_ra*u.deg, dec=ns_dec*u.deg, distance=Distance(parallax=np.abs(ns_plx)*u.mas),\n",
    "                    pm_ra_cosdec=ns_pmra*u.mas/u.yr, pm_dec=ns_pmdec*u.mas/u.yr,\n",
    "                    radial_velocity=ns_rv*u.km/u.s, frame='icrs')\n",
    "x_orbit_ns, y_orbit_ns, z_orbit_ns = trace(ns_coord)"
   ]
  },
  {
   "cell_type": "code",
   "execution_count": 122,
   "metadata": {},
   "outputs": [],
   "source": [
    "ns_pix = hp.vec2pix(128, x_orbit_ns - gum_cenx0, y_orbit_ns - gum_ceny0, z_orbit_ns - gum_cenz0)\n",
    "d_cen0 = np.sqrt((x_orbit_ns - gum_cenx0)**2 +  (y_orbit_ns - gum_ceny0)**2 + (z_orbit_ns - gum_cenz0)**2)\n",
    "idx = np.where(d_cen0 < ivs['r_raw'].values[ns_pix]) # the cases where NS path inside the shell\n",
    "idx_sample, idx_t = idx[0], idx[1]\n",
    "# sample index: idx[0]; time step index: idx[1] --> choose ones within 3 Myr\n",
    "ns_chosen_x = x_orbit_ns[np.unique(idx_sample)]\n",
    "ns_chosen_y = y_orbit_ns[np.unique(idx_sample)]\n",
    "ns_chosen_z = z_orbit_ns[np.unique(idx_sample)]"
   ]
  },
  {
   "cell_type": "code",
   "execution_count": 123,
   "metadata": {},
   "outputs": [
    {
     "data": {
      "image/png": "[encoded data removed]",
      "text/plain": [
       "<Figure size 2000x600 with 3 Axes>"
      ]
     },
     "metadata": {
      "image/png": {
       "height": 504,
       "width": 1600
      }
     },
     "output_type": "display_data"
    }
   ],
   "source": [
    "fig, (ax1, ax2, ax3) = plt.subplots(1, 3, figsize = (20, 6)) \n",
    "size=0.03\n",
    "size_p = 2\n",
    "alpha = 0.05\n",
    "fontsize = 18\n",
    "cmap=cm.OrRd\n",
    "\n",
    "ax1.hist(ns_rv[idx_sample], bins=500) #, color= ts_past[idx_t].value,cmap=cmap\n",
    "ax2.hist(ts_past[idx_t].value, bins=500)\n",
    "ax3.hist(ns_plx[idx_sample], bins=500)\n",
    "plt.show()"
   ]
  },
  {
   "cell_type": "code",
   "execution_count": 124,
   "metadata": {},
   "outputs": [
    {
     "data": {
      "text/plain": [
       "(-0.7400000000000482, -1.1100000000000403, -0.4800000000000537)"
      ]
     },
     "execution_count": 124,
     "metadata": {},
     "output_type": "execute_result"
    }
   ],
   "source": [
    "np.percentile(ts_past[idx_t].value, 50), np.percentile(ts_past[idx_t].value, 15.9), np.percentile(ts_past[idx_t].value, 84.1)"
   ]
  },
  {
   "cell_type": "code",
   "execution_count": 125,
   "metadata": {},
   "outputs": [
    {
     "name": "stdout",
     "output_type": "stream",
     "text": [
      "-101.7790493190721 -59.826404448727544 147.62168654147467\n",
      "3.9278872505203424 -1.24986281089802 1.4090868046363623\n",
      "254.58979248132087 118.81979452791066 -67.21769929421282\n"
     ]
    }
   ],
   "source": [
    "print(np.percentile(ns_rv[idx_sample], 50), np.percentile(ns_rv[idx_sample], 15.9)-np.percentile(ns_rv[idx_sample], 50), np.percentile(ns_rv[idx_sample], 84.1)-np.percentile(ns_rv[idx_sample], 50))\n",
    "print(np.percentile(ns_plx[idx_sample], 50), np.percentile(ns_plx[idx_sample], 15.9)-np.percentile(ns_plx[idx_sample], 50), np.percentile(ns_plx[idx_sample], 84.1)-np.percentile(ns_plx[idx_sample], 50))\n",
    "print(1000/np.percentile(ns_plx[idx_sample], 50), 1000/np.percentile(ns_plx[idx_sample], 15.9)-1000/np.percentile(ns_plx[idx_sample], 50), 1000/np.percentile(ns_plx[idx_sample], 84.1)-1000/np.percentile(ns_plx[idx_sample], 50))"
   ]
  },
  {
   "cell_type": "code",
   "execution_count": 126,
   "metadata": {},
   "outputs": [
    {
     "name": "stdout",
     "output_type": "stream",
     "text": [
      "-0.7400000000000482 Myr -0.4170599999999913 Myr 0.23999999999999488 Myr\n",
      "-0.5000000000000533 Myr -0.2199999999999953 Myr 0.13999999999999702 Myr\n",
      "None\n"
     ]
    }
   ],
   "source": [
    "_, enter_ind_sample = np.unique(idx_sample, return_index=True) # for each case that pulsar pass IVS, which index of that path remarks entering the IVS\n",
    "t_enter = ts_past[idx_t[enter_ind_sample]] # corresponding time for the entrance\n",
    "print(np.percentile(t_enter, 50), np.percentile(t_enter, 15.9)-np.percentile(t_enter, 50), np.percentile(t_enter, 84.1)-np.percentile(t_enter, 50))\n",
    "exit_ind_sample = enter_ind_sample[1:]-1\n",
    "t_exit = ts_past[idx_t[exit_ind_sample]]\n",
    "print(print(np.percentile(t_exit, 50), np.percentile(t_exit, 15.9)-np.percentile(t_exit, 50), np.percentile(t_exit, 84.1)-np.percentile(t_exit, 50)))"
   ]
  },
  {
   "cell_type": "markdown",
   "metadata": {},
   "source": [
    "### Pass by XX pc from the IVS center $1.6_{-0.6}^{+1.5}$ Myr ago\n",
    "reference: current peak distance $69_{-22}^{+33}$ pc"
   ]
  },
  {
   "cell_type": "code",
   "execution_count": 147,
   "metadata": {},
   "outputs": [],
   "source": [
    "ns_pix = hp.vec2pix(128, x_orbit_ns - gum_cenx0, y_orbit_ns - gum_ceny0, z_orbit_ns - gum_cenz0)\n",
    "d_cen0 = np.sqrt((x_orbit_ns - gum_cenx0)**2 +  (y_orbit_ns - gum_ceny0)**2 + (z_orbit_ns - gum_cenz0)**2)"
   ]
  },
  {
   "cell_type": "code",
   "execution_count": 149,
   "metadata": {},
   "outputs": [
    {
     "name": "stdout",
     "output_type": "stream",
     "text": [
      "-1.0900000000000407 -1.2822800000000367 -1.0200000000000422\n",
      "-134.17169970229213 -22.73562047428578 21.452337003748028\n",
      "6.251826997054652 -0.7203487806999247 1.107006487245556\n",
      "159.95324254351857 20.83025887990476 -24.06213940421503\n"
     ]
    }
   ],
   "source": [
    "dist_bar = 69 # upto 100 pc (min among 10,000 samples: 55.7pc. So sample from 56 to 102 pc)\n",
    "ns_pix = hp.vec2pix(128, x_orbit_ns - gum_cenx0, y_orbit_ns - gum_ceny0, z_orbit_ns - gum_cenz0)\n",
    "d_cen0 = np.sqrt((x_orbit_ns - gum_cenx0)**2 +  (y_orbit_ns - gum_ceny0)**2 + (z_orbit_ns - gum_cenz0)**2)\n",
    "idx = np.where(d_cen0 < dist_bar) # the cases where NS path pass by shell center within dist_bar distance\n",
    "idx_sample, idx_t = idx[0][ts_past[idx[1]].value<-1], idx[1][ts_past[idx[1]].value<-1] # time constrain: -1 Myr or earlier (until -1.6 Myr) # sample index: idx[0]; time step index: idx[1] \n",
    "print(np.percentile(ts_past[idx_t].value, 50), np.percentile(ts_past[idx_t].value, 15.9), np.percentile(ts_past[idx_t].value, 84.1))\n",
    "print(np.percentile(ns_rv[idx_sample], 50), np.percentile(ns_rv[idx_sample], 15.9)-np.percentile(ns_rv[idx_sample], 50), np.percentile(ns_rv[idx_sample], 84.1)-np.percentile(ns_rv[idx_sample], 50))\n",
    "print(np.percentile(ns_plx[idx_sample], 50), np.percentile(ns_plx[idx_sample], 15.9)-np.percentile(ns_plx[idx_sample], 50), np.percentile(ns_plx[idx_sample], 84.1)-np.percentile(ns_plx[idx_sample], 50))\n",
    "print(1000/np.percentile(ns_plx[idx_sample], 50), 1000/np.percentile(ns_plx[idx_sample], 15.9)-1000/np.percentile(ns_plx[idx_sample], 50), 1000/np.percentile(ns_plx[idx_sample], 84.1)-1000/np.percentile(ns_plx[idx_sample], 50))"
   ]
  },
  {
   "cell_type": "code",
   "execution_count": 157,
   "metadata": {},
   "outputs": [
    {
     "data": {
      "text/plain": [
       "122"
      ]
     },
     "execution_count": 157,
     "metadata": {},
     "output_type": "execute_result"
    }
   ],
   "source": [
    "len(d_cen0[np.unique(idx_sample),:])"
   ]
  },
  {
   "cell_type": "markdown",
   "metadata": {},
   "source": [
    "## NS and Trumpler 10"
   ]
  },
  {
   "cell_type": "code",
   "execution_count": 131,
   "metadata": {},
   "outputs": [],
   "source": [
    "dist_orbit_tr10NS = np.sqrt((x_orbit_tr10-x_orbit_ns)**2+(y_orbit_tr10-y_orbit_ns)**2+(z_orbit_tr10-z_orbit_ns)**2)"
   ]
  },
  {
   "cell_type": "code",
   "execution_count": 176,
   "metadata": {},
   "outputs": [
    {
     "data": {
      "text/plain": [
       "((10000, 301), (10000, 301), (10000, 301))"
      ]
     },
     "execution_count": 176,
     "metadata": {},
     "output_type": "execute_result"
    }
   ],
   "source": [
    "x_orbit_ns.shape, x_orbit_tr10.shape, dist_orbit_tr10NS.shape"
   ]
  },
  {
   "cell_type": "code",
   "execution_count": 177,
   "metadata": {},
   "outputs": [
    {
     "name": "stdout",
     "output_type": "stream",
     "text": [
      "136.29593278008215 -106.50100581350567 1124.826778841013\n",
      "-0.37000000000005606 -1.7599999999999625 0.3699999999999921\n"
     ]
    }
   ],
   "source": [
    "# np.min(dist_orbit_tr10NS), \n",
    "min_dist_sample_tr10NS = np.min(dist_orbit_tr10NS, axis=1)\n",
    "min_dist_time_tr10NS = ts_past[np.argmin(dist_orbit_tr10NS, axis=1)].value\n",
    "print(np.percentile(min_dist_sample_tr10NS, 50), np.percentile(min_dist_sample_tr10NS, 2.5)-np.percentile(min_dist_sample_tr10NS, 50), np.percentile(min_dist_sample_tr10NS, 97.5)-np.percentile(min_dist_sample_tr10NS, 50))\n",
    "print(np.percentile(min_dist_time_tr10NS, 50), np.percentile(min_dist_time_tr10NS, 2.5)-np.percentile(min_dist_time_tr10NS, 50), np.percentile(min_dist_time_tr10NS, 97.5)-np.percentile(min_dist_time_tr10NS, 50))"
   ]
  },
  {
   "cell_type": "code",
   "execution_count": 178,
   "metadata": {},
   "outputs": [
    {
     "name": "stdout",
     "output_type": "stream",
     "text": [
      "min distance overall: 18.867023974212692 \n",
      "mean time cross: -0.4933040000000535 Myr\n"
     ]
    }
   ],
   "source": [
    "min_dist_tr10NS = np.min(dist_orbit_tr10NS, axis=1)\n",
    "min_time_tr10NS = ts_past[np.argmin(dist_orbit_tr10NS, axis=1)]\n",
    "print('min distance overall:',np.min(min_dist_tr10NS),  '\\n'\n",
    "      'mean time cross:',  np.mean(min_time_tr10NS))"
   ]
  },
  {
   "cell_type": "code",
   "execution_count": 192,
   "metadata": {},
   "outputs": [
    {
     "data": {
      "image/png": "[encoded data removed]",
      "text/plain": [
       "<Figure size 1400x600 with 2 Axes>"
      ]
     },
     "metadata": {
      "image/png": {
       "height": 509,
       "width": 1152
      }
     },
     "output_type": "display_data"
    }
   ],
   "source": [
    "fig, (ax1, ax2) = plt.subplots(1, 2, figsize = (14, 6)) \n",
    "size=0.03\n",
    "size_p = 2\n",
    "alpha = 0.05\n",
    "fontsize = 18\n",
    "\n",
    "ax1.hist(min_dist_tr10NS, bins=5000, density=True)\n",
    "ax1.set_xlim(0, 250)\n",
    "ax2.hist(min_time_tr10NS.value, bins=500, density=True)\n",
    "ax2.set_xlim(-1.75, -0.02)\n",
    "ax2.set_ylim(0, 1)\n",
    "plt.show()\n"
   ]
  },
  {
   "cell_type": "code",
   "execution_count": 199,
   "metadata": {},
   "outputs": [
    {
     "data": {
      "text/plain": [
       "(<Quantity -0.57 Myr>, <Quantity -2.362 Myr>, <Quantity -0.05 Myr>)"
      ]
     },
     "execution_count": 199,
     "metadata": {},
     "output_type": "execute_result"
    }
   ],
   "source": [
    "np.median(min_time_tr10NS[min_time_tr10NS.value<-0.015]), np.percentile(min_time_tr10NS[min_time_tr10NS.value<-0.015], 2.5), np.percentile(min_time_tr10NS[min_time_tr10NS.value<-0.015], 97.5)"
   ]
  },
  {
   "cell_type": "code",
   "execution_count": 205,
   "metadata": {},
   "outputs": [
    {
     "data": {
      "text/plain": [
       "(-98.81324236302646, -477.7278537165993, 443.0864465449072)"
      ]
     },
     "execution_count": 205,
     "metadata": {},
     "output_type": "execute_result"
    }
   ],
   "source": [
    "np.median(ns_rv[min_time_tr10NS.value<-0.015]), np.percentile(ns_rv[min_time_tr10NS.value<-0.015], 2.5), np.percentile(ns_rv[min_time_tr10NS.value<-0.015], 97.5)"
   ]
  }
 ],
 "metadata": {
  "kernelspec": {
   "display_name": "ism",
   "language": "python",
   "name": "python3"
  },
  "language_info": {
   "codemirror_mode": {
    "name": "ipython",
    "version": 3
   },
   "file_extension": ".py",
   "mimetype": "text/x-python",
   "name": "python",
   "nbconvert_exporter": "python",
   "pygments_lexer": "ipython3",
   "version": "3.9.16"
  }
 },
 "nbformat": 4,
 "nbformat_minor": 2
}
