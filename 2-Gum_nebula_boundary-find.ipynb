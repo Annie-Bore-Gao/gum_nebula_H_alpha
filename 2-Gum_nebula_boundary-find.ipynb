{
 "cells": [
  {
   "cell_type": "code",
   "execution_count": 1,
   "id": "b774968d",
   "metadata": {},
   "outputs": [],
   "source": [
    "import astropy.units as u\n",
    "from astropy.coordinates import SkyCoord,SphericalDifferential,ICRS,Galactic,GalacticLSR,Distance\n",
    "import pandas as pd\n",
    "from astropy.table import Table, join,vstack\n",
    "import numpy as np\n",
    "from scipy import interpolate\n",
    "import math\n",
    "import matplotlib\n",
    "import matplotlib.pyplot as plt\n",
    "from astropy.io import fits\n",
    "from astropy.wcs import WCS\n",
    "from scipy import ndimage\n",
    "from scipy.ndimage import gaussian_filter1d\n",
    "import healpy as hp\n",
    "from tqdm import tqdm"
   ]
  },
  {
   "cell_type": "code",
   "execution_count": null,
   "id": "0f424f67",
   "metadata": {},
   "outputs": [],
   "source": []
  },
  {
   "cell_type": "markdown",
   "id": "a9cff275",
   "metadata": {},
   "source": [
    "# Create density lines"
   ]
  },
  {
   "cell_type": "code",
   "execution_count": 2,
   "id": "1359058e",
   "metadata": {},
   "outputs": [],
   "source": [
    "dust_file = '/Users/anniegao/Documents/dustmaps_files/Dust_maps/Edenhofer_map_sketch/edenhofer_2023/gum_dust_map.fits'\n",
    "f=fits.open(dust_file)\n",
    "dust_map = f[0].data"
   ]
  },
  {
   "cell_type": "code",
   "execution_count": 2,
   "id": "9d001b8c",
   "metadata": {},
   "outputs": [],
   "source": [
    "ip= np.arange(0,196608) #np.arange(0,196608, 5)\n",
    "NSIDE = 128\n",
    "theta, phi = hp.pix2ang(nside=NSIDE, ipix=ip)\n",
    "# center of Gum Nebula, flexible (should give the same result)\n",
    "x_G = -67 #pc\n",
    "y_G = -334 #pc\n",
    "z_G = -65 #pc\n",
    "# To pixel: \n",
    "stepsize=2 # dust map resolution\n",
    "r = 350/stepsize \n",
    "xG_p = (145+x_G/stepsize) \n",
    "yG_p = (345+y_G/stepsize)\n",
    "zG_p = (165+z_G/stepsize)\n",
    "p_x = xG_p + r* np.sin(theta)* np.cos(phi)\n",
    "p_y = yG_p + r* np.sin(theta)*np.sin(phi) \n",
    "p_z = zG_p + r* np.cos(theta)"
   ]
  },
  {
   "cell_type": "code",
   "execution_count": 3,
   "id": "5d86ea23",
   "metadata": {},
   "outputs": [],
   "source": [
    "loc = np.zeros((len(p_x), 3, 350))\n",
    "for w in range(len(p_x)):\n",
    "    loc[w, 0, :] = np.linspace(zG_p, p_z[w], 350)\n",
    "    loc[w, 1, :] = np.linspace(yG_p, p_y[w], 350)\n",
    "    loc[w, 2, :] = np.linspace(xG_p, p_x[w], 350)"
   ]
  },
  {
   "cell_type": "code",
   "execution_count": 10,
   "id": "6254eed3",
   "metadata": {},
   "outputs": [],
   "source": [
    "def compute_column(i, loc):\n",
    "    return i, ndimage.map_coordinates(dust_map, loc, order=1)"
   ]
  },
  {
   "cell_type": "code",
   "execution_count": 15,
   "id": "29032138",
   "metadata": {},
   "outputs": [
    {
     "name": "stderr",
     "output_type": "stream",
     "text": [
      "100%|██████████████████████████████████| 196608/196608 [23:58<00:00, 136.66it/s]\n"
     ]
    }
   ],
   "source": [
    "b = np.zeros((350, len(p_x)))\n",
    "results = [compute_column(i, loc[i, :, :]) for i in tqdm(range(len(p_x)))]"
   ]
  },
  {
   "cell_type": "code",
   "execution_count": 16,
   "id": "beacb79b",
   "metadata": {},
   "outputs": [],
   "source": [
    "density_file='/Users/anniegao/Documents/dustmaps_files/Dust_maps/Edenhofer_map_sketch/new_dustmap/density_lines_edenhofer_Gum_2_350_cut.csv'\n",
    "for i, column in results:\n",
    "    b[:, i] = column\n",
    "pd.DataFrame(b).to_csv(density_file, index=False)"
   ]
  },
  {
   "cell_type": "markdown",
   "id": "ce521ea1",
   "metadata": {},
   "source": [
    "## Use density lines"
   ]
  },
  {
   "cell_type": "markdown",
   "id": "208aafc9",
   "metadata": {},
   "source": [
    "data: unit [E] \\\n",
    "Convert to A_G using the extinction table: $A_{G} = data*2.040684938430786 [mag]$ \\\n",
    "Convert to column density: use relation $\\frac{A_{G}}{N_{H}} = 4*10^{-22} cm^{2}*mag $ \\\n",
    "$N_{H} = \\frac{A_{G}}{4* 10^{-22} cm^{2}* mag} = \\frac{data*2.040684938430786}{4*10^{-22}} [cm^{-2}]$ \\\n",
    "Length of a cell: $2pc = 2*3.0857*10^{18}cm$ \\\n",
    "Meaning that the column density(unit: $cm^{-2}$) is in fact a volume of $V_{0}=1cm^{2}*2pc = 2*3.0857*10^{18} cm^3 $ \\\n",
    "volume density: $n_{H}=\\frac{N_H}{V_{0}} = \\frac{data*2.040684938430786}{4*10^{-22}*2*3.0857*10^{18}} [cm^{-3}] = data *826.67 [cm^{-3}]$"
   ]
  },
  {
   "cell_type": "code",
   "execution_count": 4,
   "id": "487d8d38",
   "metadata": {},
   "outputs": [],
   "source": [
    "density_lines_orig = pd.read_csv(density_file)\n",
    "density_lines = density_lines_orig*826.670"
   ]
  },
  {
   "cell_type": "markdown",
   "id": "d9ff891e",
   "metadata": {},
   "source": [
    "## Use iterative method to find Gum nebula geometry\n",
    "####  <font color= '1E90FF'> So that it finds a well-defined dense dust region </font> \n",
    "The aim to start from a large smoothing factor sigma, and gradually tighten it. \\\n",
    "Use large smoothing factor to find the big obvious dense dust region that has a clear shape. \n",
    "And use small smoothing factor to get close to the dense region to better define its inner and outer boundary. \\\n",
    "Standard to stop: whether it is robust enough. Think about the definition of the boundary. Compare with history plots."
   ]
  },
  {
   "cell_type": "markdown",
   "id": "f373f194",
   "metadata": {},
   "source": [
    "# Sketch inner boundary"
   ]
  },
  {
   "cell_type": "code",
   "execution_count": 7,
   "id": "82b4840d",
   "metadata": {},
   "outputs": [],
   "source": [
    "boundary = pd.DataFrame(columns=['x[pc]', 'y[pc]', 'z[pc]', 'l[deg]', 'b[deg]', 'd[pc]','index', 'r_raw'])"
   ]
  },
  {
   "cell_type": "code",
   "execution_count": 9,
   "id": "f349dc2c",
   "metadata": {},
   "outputs": [
    {
     "name": "stderr",
     "output_type": "stream",
     "text": [
      "WARNING: AstropyDeprecationWarning: The `representation` keyword/property name is deprecated in favor of `representation_type` [astropy.coordinates.baseframe]\n"
     ]
    }
   ],
   "source": [
    "sigma = stepsize**2/0.3 #smoothing gaussian kernel \n",
    "for p in range(density_lines.shape[1]):\n",
    "    x1 = loc[p, 2, :]- xG_p\n",
    "    y1 = loc[p, 1, :]- yG_p\n",
    "    z1 = loc[p, 0, :]- zG_p\n",
    "    dist = np.sqrt(x1**2+ y1**2+ z1**2)*stepsize\n",
    "    gau_1D_dens = gaussian_filter1d(density_lines[str(p)].tolist(), sigma)\n",
    "    d1 = np.gradient(gau_1D_dens, dist)\n",
    "    d2 = np.gradient(d1,dist)\n",
    "    pos_inflection = np.where(d1>0)\n",
    "    zero_inds = np.where(np.diff(np.sign(d2))!= 0)[0]\n",
    "    inf_indices = np.intersect1d(zero_inds,pos_inflection)\n",
    "    try:\n",
    "        inflection_i = inf_indices[0]\n",
    "    except Exception:\n",
    "        inflection_i = zero_inds[0]\n",
    "        \n",
    "    inflection_dist= dist[inflection_i]\n",
    "    inf_z, inf_y, inf_x = stepsize*(loc[p, :, inflection_i]-[165,345,145]) #coordinate in the xyz frame\n",
    "    galactic_lbd = SkyCoord(x = inf_x*u.pc, y = inf_y*u.pc, z = inf_z*u.pc, representation='cartesian').spherical\n",
    "    boundary.loc[len(boundary)] = [inf_x, inf_y, inf_z, galactic_lbd.lon.value, galactic_lbd.lat.value, \n",
    "                               galactic_lbd.distance.value, p, inflection_dist]\n"
   ]
  },
  {
   "cell_type": "code",
   "execution_count": 10,
   "id": "5ddff231",
   "metadata": {},
   "outputs": [
    {
     "data": {
      "text/html": [
       "<div>\n",
       "<style scoped>\n",
       "    .dataframe tbody tr th:only-of-type {\n",
       "        vertical-align: middle;\n",
       "    }\n",
       "\n",
       "    .dataframe tbody tr th {\n",
       "        vertical-align: top;\n",
       "    }\n",
       "\n",
       "    .dataframe thead th {\n",
       "        text-align: right;\n",
       "    }\n",
       "</style>\n",
       "<table border=\"1\" class=\"dataframe\">\n",
       "  <thead>\n",
       "    <tr style=\"text-align: right;\">\n",
       "      <th></th>\n",
       "      <th>x[pc]</th>\n",
       "      <th>y[pc]</th>\n",
       "      <th>z[pc]</th>\n",
       "      <th>l[deg]</th>\n",
       "      <th>b[deg]</th>\n",
       "      <th>d[pc]</th>\n",
       "      <th>index</th>\n",
       "      <th>r_raw</th>\n",
       "    </tr>\n",
       "  </thead>\n",
       "  <tbody>\n",
       "    <tr>\n",
       "      <th>0</th>\n",
       "      <td>-66.375764</td>\n",
       "      <td>-333.375764</td>\n",
       "      <td>73.392600</td>\n",
       "      <td>258.739552</td>\n",
       "      <td>12.183806</td>\n",
       "      <td>347.752233</td>\n",
       "      <td>0.0</td>\n",
       "      <td>138.395415</td>\n",
       "    </tr>\n",
       "    <tr>\n",
       "      <th>1</th>\n",
       "      <td>-67.624236</td>\n",
       "      <td>-333.375764</td>\n",
       "      <td>73.392600</td>\n",
       "      <td>258.533313</td>\n",
       "      <td>12.175258</td>\n",
       "      <td>347.992688</td>\n",
       "      <td>1.0</td>\n",
       "      <td>138.395415</td>\n",
       "    </tr>\n",
       "    <tr>\n",
       "      <th>2</th>\n",
       "      <td>-67.628760</td>\n",
       "      <td>-334.628760</td>\n",
       "      <td>74.395445</td>\n",
       "      <td>258.574374</td>\n",
       "      <td>12.293504</td>\n",
       "      <td>349.406265</td>\n",
       "      <td>2.0</td>\n",
       "      <td>139.398281</td>\n",
       "    </tr>\n",
       "    <tr>\n",
       "      <th>3</th>\n",
       "      <td>-66.375764</td>\n",
       "      <td>-334.624236</td>\n",
       "      <td>73.392600</td>\n",
       "      <td>258.780496</td>\n",
       "      <td>12.141373</td>\n",
       "      <td>348.949273</td>\n",
       "      <td>3.0</td>\n",
       "      <td>138.395415</td>\n",
       "    </tr>\n",
       "    <tr>\n",
       "      <th>4</th>\n",
       "      <td>-65.368817</td>\n",
       "      <td>-333.324342</td>\n",
       "      <td>73.384153</td>\n",
       "      <td>258.904439</td>\n",
       "      <td>12.190993</td>\n",
       "      <td>347.510335</td>\n",
       "      <td>4.0</td>\n",
       "      <td>138.395415</td>\n",
       "    </tr>\n",
       "    <tr>\n",
       "      <th>...</th>\n",
       "      <td>...</td>\n",
       "      <td>...</td>\n",
       "      <td>...</td>\n",
       "      <td>...</td>\n",
       "      <td>...</td>\n",
       "      <td>...</td>\n",
       "      <td>...</td>\n",
       "      <td>...</td>\n",
       "    </tr>\n",
       "    <tr>\n",
       "      <th>196603</th>\n",
       "      <td>-66.669035</td>\n",
       "      <td>-334.137090</td>\n",
       "      <td>-93.077944</td>\n",
       "      <td>258.716184</td>\n",
       "      <td>-15.279128</td>\n",
       "      <td>353.207954</td>\n",
       "      <td>196603.0</td>\n",
       "      <td>28.080229</td>\n",
       "    </tr>\n",
       "    <tr>\n",
       "      <th>196604</th>\n",
       "      <td>-66.873343</td>\n",
       "      <td>-333.873343</td>\n",
       "      <td>-93.079658</td>\n",
       "      <td>258.673786</td>\n",
       "      <td>-15.288745</td>\n",
       "      <td>352.997558</td>\n",
       "      <td>196604.0</td>\n",
       "      <td>28.080229</td>\n",
       "    </tr>\n",
       "    <tr>\n",
       "      <th>196605</th>\n",
       "      <td>-67.126657</td>\n",
       "      <td>-333.873343</td>\n",
       "      <td>-93.079658</td>\n",
       "      <td>258.631998</td>\n",
       "      <td>-15.286612</td>\n",
       "      <td>353.045635</td>\n",
       "      <td>196605.0</td>\n",
       "      <td>28.080229</td>\n",
       "    </tr>\n",
       "    <tr>\n",
       "      <th>196606</th>\n",
       "      <td>-67.126657</td>\n",
       "      <td>-334.126657</td>\n",
       "      <td>-93.079658</td>\n",
       "      <td>258.640392</td>\n",
       "      <td>-15.275994</td>\n",
       "      <td>353.285201</td>\n",
       "      <td>196606.0</td>\n",
       "      <td>28.080229</td>\n",
       "    </tr>\n",
       "    <tr>\n",
       "      <th>196607</th>\n",
       "      <td>-66.873343</td>\n",
       "      <td>-334.126657</td>\n",
       "      <td>-93.079658</td>\n",
       "      <td>258.682151</td>\n",
       "      <td>-15.278122</td>\n",
       "      <td>353.237157</td>\n",
       "      <td>196607.0</td>\n",
       "      <td>28.080229</td>\n",
       "    </tr>\n",
       "  </tbody>\n",
       "</table>\n",
       "<p>196608 rows × 8 columns</p>\n",
       "</div>"
      ],
      "text/plain": [
       "            x[pc]       y[pc]      z[pc]      l[deg]     b[deg]       d[pc]  \\\n",
       "0      -66.375764 -333.375764  73.392600  258.739552  12.183806  347.752233   \n",
       "1      -67.624236 -333.375764  73.392600  258.533313  12.175258  347.992688   \n",
       "2      -67.628760 -334.628760  74.395445  258.574374  12.293504  349.406265   \n",
       "3      -66.375764 -334.624236  73.392600  258.780496  12.141373  348.949273   \n",
       "4      -65.368817 -333.324342  73.384153  258.904439  12.190993  347.510335   \n",
       "...           ...         ...        ...         ...        ...         ...   \n",
       "196603 -66.669035 -334.137090 -93.077944  258.716184 -15.279128  353.207954   \n",
       "196604 -66.873343 -333.873343 -93.079658  258.673786 -15.288745  352.997558   \n",
       "196605 -67.126657 -333.873343 -93.079658  258.631998 -15.286612  353.045635   \n",
       "196606 -67.126657 -334.126657 -93.079658  258.640392 -15.275994  353.285201   \n",
       "196607 -66.873343 -334.126657 -93.079658  258.682151 -15.278122  353.237157   \n",
       "\n",
       "           index       r_raw  \n",
       "0            0.0  138.395415  \n",
       "1            1.0  138.395415  \n",
       "2            2.0  139.398281  \n",
       "3            3.0  138.395415  \n",
       "4            4.0  138.395415  \n",
       "...          ...         ...  \n",
       "196603  196603.0   28.080229  \n",
       "196604  196604.0   28.080229  \n",
       "196605  196605.0   28.080229  \n",
       "196606  196606.0   28.080229  \n",
       "196607  196607.0   28.080229  \n",
       "\n",
       "[196608 rows x 8 columns]"
      ]
     },
     "execution_count": 10,
     "metadata": {},
     "output_type": "execute_result"
    }
   ],
   "source": [
    "boundary"
   ]
  },
  {
   "cell_type": "code",
   "execution_count": 11,
   "id": "4a55b9b3",
   "metadata": {},
   "outputs": [],
   "source": [
    "boundary_file = '/Users/anniegao/Documents/dustmaps_files/Dust_maps/Edenhofer_map_sketch/new_dustmap/boundary_Gum_edenhofer_center2_new_sigma_950.csv'\n",
    "boundary.to_csv(boundary_file, index=False)"
   ]
  },
  {
   "cell_type": "markdown",
   "id": "2d9940e1",
   "metadata": {},
   "source": [
    "# Sketch outer boundary"
   ]
  },
  {
   "cell_type": "code",
   "execution_count": 28,
   "id": "7d9719bd",
   "metadata": {},
   "outputs": [],
   "source": [
    "boundary_out = pd.DataFrame(columns=['x[pc]', 'y[pc]', 'z[pc]', 'l[deg]', 'b[deg]', 'd[pc]','index', 'r_raw'])"
   ]
  },
  {
   "cell_type": "code",
   "execution_count": 29,
   "id": "e17dfc50",
   "metadata": {},
   "outputs": [],
   "source": [
    "# first derivative negative, second derivative=0\n",
    "sigma = stepsize**2/0.3 #stepsize**2/2.5\n",
    "for p in range(density_lines.shape[1]):\n",
    "    x1 = loc[p, 2, :]- xG_p\n",
    "    y1 = loc[p, 1, :]- yG_p\n",
    "    z1 = loc[p, 0, :]- zG_p\n",
    "    dist = np.sqrt(x1**2+ y1**2+ z1**2)*stepsize\n",
    "    gau_1D_dens = gaussian_filter1d(density_lines[str(p)].tolist(), sigma)\n",
    "    d1 = np.gradient(gau_1D_dens, dist)\n",
    "    d2 = np.gradient(d1,dist)\n",
    "    pos_inflection = np.where(d1>0)\n",
    "    neg_inflection = np.where(d1<0)\n",
    "    zero_inds = np.where(np.diff(np.sign(d2))!= 0)[0]\n",
    "    inf_indices_pos = np.intersect1d(zero_inds, pos_inflection)\n",
    "    inf_indices_neg = np.intersect1d(zero_inds, neg_inflection)\n",
    "    \n",
    "    if len(inf_indices_pos)>0:\n",
    "        try:\n",
    "            pos = np.where(zero_inds == inf_indices_pos[0])[0][0] #1st inflection\n",
    "            inflection_i = zero_inds[pos+1]\n",
    "            inflection_dist = dist[inflection_i]\n",
    "        except Exception:\n",
    "            inflection_i = np.nan\n",
    "            inflection_dist = np.nan\n",
    "    else:\n",
    "        inflection_i= zero_inds[1]\n",
    "        inflection_dist = dist[inflection_i]\n",
    "    try:\n",
    "        inf_z, inf_y, inf_x = stepsize*(loc[p, :, inflection_i]-[165,345,145]) \n",
    "        galactic_lbd = SkyCoord(x = inf_x*u.pc, y = inf_y*u.pc, z = inf_z*u.pc, representation='cartesian').spherical\n",
    "        boundary_out.loc[len(boundary_out)] = [inf_x, inf_y, inf_z, galactic_lbd.lon.value, galactic_lbd.lat.value, \n",
    "                                               galactic_lbd.distance.value, p, inflection_dist]\n",
    "    except Exception:\n",
    "        boundary_out.loc[len(boundary_out)] = [np.nan, np.nan, np.nan, np.nan, np.nan, np.nan, ip, np.nan]\n"
   ]
  },
  {
   "cell_type": "code",
   "execution_count": 30,
   "id": "095caa75",
   "metadata": {},
   "outputs": [],
   "source": [
    "outer_file = '/Users/anniegao/Documents/dustmaps_files/Dust_maps/Edenhofer_map_sketch/new_dustmap/outer_boundary_350_sigma_950.csv'\n",
    "boundary_out.to_csv(outer_file, index=False)"
   ]
  },
  {
   "cell_type": "code",
   "execution_count": 94,
   "id": "62d95478",
   "metadata": {
    "collapsed": true
   },
   "outputs": [
    {
     "data": {
      "text/plain": [
       "<matplotlib.collections.PathCollection at 0x31f537b80>"
      ]
     },
     "execution_count": 94,
     "metadata": {},
     "output_type": "execute_result"
    },
    {
     "data": {
      "image/png": "[encoded data removed]",
      "text/plain": [
       "<Figure size 640x480 with 1 Axes>"
      ]
     },
     "metadata": {},
     "output_type": "display_data"
    }
   ],
   "source": [
    "plt.scatter(boundary_out['l[deg]'],boundary_out['b[deg]'])"
   ]
  }
 ],
 "metadata": {
  "kernelspec": {
   "display_name": "Python 3 (ipykernel)",
   "language": "python",
   "name": "python3"
  },
  "language_info": {
   "codemirror_mode": {
    "name": "ipython",
    "version": 3
   },
   "file_extension": ".py",
   "mimetype": "text/x-python",
   "name": "python",
   "nbconvert_exporter": "python",
   "pygments_lexer": "ipython3",
   "version": "3.9.16"
  }
 },
 "nbformat": 4,
 "nbformat_minor": 5
}
